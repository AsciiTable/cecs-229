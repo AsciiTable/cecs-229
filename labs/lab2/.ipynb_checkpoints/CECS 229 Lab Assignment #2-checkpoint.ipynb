{
 "cells": [
  {
   "cell_type": "markdown",
   "metadata": {},
   "source": [
    "# CECS 229 Lab Assignment #2\n",
    "\n",
    "***Submission Instructions: Complete this notebook and demo your work when finished.***\n",
    "\n",
    "#### Quick Python Reference\n",
    "\n",
    "**ARITHMETIC OPERATORS**\n",
    "\n",
    "* Basic: `+`, `*`, `-`, `/`\n",
    "* Others: \n",
    "    * exponentiation: `**`\n",
    "    * **div** i.e. integer division: `//`\n",
    "    * **mod** i.e. modulo remainder: `%`\n",
    "    * scientific notation: `e`\n",
    "    \n",
    "**BASIC LIST STRUCTURES**\n",
    "\n",
    "\n",
    "* *List* - ordered, mutable collection of objects: \n",
    "\n",
    "`a = [1, 2, 3, 40]`\n",
    "\n",
    "`a[2] = 30`\n",
    "\n",
    "`a.insert(0, 100)`\n",
    "\n",
    "`print(a)`\n",
    "\n",
    "`>> [100, 1, 2, 30, 40]`\n",
    "\n",
    "* *Tuple* - ordered, immutable collection of objects: `b = (1, 2, 3, 40)`\n",
    "\n",
    "`b = (1, 2, 3, 40)`\n",
    "\n",
    "`b[2] = 30`\n",
    "\n",
    "`>> ERROR`"
   ]
  },
  {
   "cell_type": "markdown",
   "metadata": {},
   "source": [
    "### Lab Assignment Instructions: \n",
    "\n",
    "Create a Python function called `binaryAdd( )` that takes in two strings of binary expansions, `a` and `b`, and returns the sum of the binary expansions as a string.  For example,\n",
    "\n",
    "                >> binaryAdd(\"10101\", \"101011\")\n",
    "                >> '1000000'\n"
   ]
  },
  {
   "cell_type": "code",
   "execution_count": 1,
   "metadata": {},
   "outputs": [],
   "source": [
    "def binaryAdd(a, u):\n",
    "    \"\"\"\n",
    "    INPUT: a, u strings of 0's and 1's which are the binary reps of a and u\n",
    "    OUTPUT: string representation of the binary sum\n",
    "    \"\"\"\n",
    "    \n",
    "    first_char_a = a[len(a)-1]    #this returns the last character of the string a\n",
    "    first_char_u = u[len(u)-1]    #this returns the last character of the string u\n",
    "    \n",
    "    longest = 0\n",
    "    if len(a) >= len(u):\n",
    "        longest = len(a)\n",
    "    else:\n",
    "        longest = len(u)\n",
    "    \n",
    "    x = int(first_char_a)  #converts from string type to integer type\n",
    "    y = int(first_char_u)  #converts from string type to integer type\n",
    "    \n",
    "    binSum = \"\"\n",
    "    c = 0 #carry\n",
    "    currSum = 0\n",
    "    i = 0\n",
    "    while i < longest + 1:\n",
    "        if i > len (a)-1:\n",
    "            x = 0\n",
    "        else:\n",
    "            char_a = a[len(a)-1-i]\n",
    "            x = int(char_a)\n",
    "            \n",
    "        if i > len(u)-1:\n",
    "            y = 0\n",
    "        else:\n",
    "            char_u = u[len(u)-1-i]\n",
    "            y = int(char_u) \n",
    "            \n",
    "        currSum = x + y + c\n",
    "        if currSum > 1:\n",
    "            c = 1\n",
    "            currSum = 0\n",
    "        else:\n",
    "            c = 0\n",
    "        binSum = str(currSum) + binSum\n",
    "        i = i + 1\n",
    "    if binSum[0] == '0':\n",
    "        binSum = binSum[1:]\n",
    "    print(\"Sum: \", binSum)\n"
   ]
  },
  {
   "cell_type": "code",
   "execution_count": 3,
   "metadata": {},
   "outputs": [
    {
     "name": "stdout",
     "output_type": "stream",
     "text": [
      "Sum:  10110\n"
     ]
    }
   ],
   "source": [
    "binaryAdd(\"10101\", \"001\")"
   ]
  },
  {
   "cell_type": "code",
   "execution_count": 2,
   "metadata": {},
   "outputs": [
    {
     "name": "stdout",
     "output_type": "stream",
     "text": [
      "Sum:  1000\n"
     ]
    }
   ],
   "source": [
    "binaryAdd(\"101\", \"111\")"
   ]
  },
  {
   "cell_type": "code",
   "execution_count": 53,
   "metadata": {},
   "outputs": [
    {
     "name": "stdout",
     "output_type": "stream",
     "text": [
      "Sum:  1000000\n"
     ]
    }
   ],
   "source": [
    "binaryAdd(\"10101\", \"101011\")"
   ]
  },
  {
   "cell_type": "code",
   "execution_count": null,
   "metadata": {},
   "outputs": [],
   "source": []
  },
  {
   "cell_type": "code",
   "execution_count": null,
   "metadata": {},
   "outputs": [],
   "source": []
  }
 ],
 "metadata": {
  "kernelspec": {
   "display_name": "Python 3",
   "language": "python",
   "name": "python3"
  },
  "language_info": {
   "codemirror_mode": {
    "name": "ipython",
    "version": 3
   },
   "file_extension": ".py",
   "mimetype": "text/x-python",
   "name": "python",
   "nbconvert_exporter": "python",
   "pygments_lexer": "ipython3",
   "version": "3.7.3"
  }
 },
 "nbformat": 4,
 "nbformat_minor": 2
}
