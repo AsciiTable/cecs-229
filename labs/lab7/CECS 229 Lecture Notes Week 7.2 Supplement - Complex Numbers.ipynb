{
 "cells": [
  {
   "cell_type": "markdown",
   "metadata": {},
   "source": [
    "# Lecture Notes Supplement: Complex Numbers in Python\n"
   ]
  },
  {
   "cell_type": "markdown",
   "metadata": {},
   "source": [
    "### Basic Operations"
   ]
  },
  {
   "cell_type": "code",
   "execution_count": 1,
   "metadata": {},
   "outputs": [
    {
     "name": "stdout",
     "output_type": "stream",
     "text": [
      "Sum: (7-1j)\n",
      "Product: (18-1j)\n"
     ]
    }
   ],
   "source": [
    "x = 3 +  2j #use j in place of i\n",
    "y = 4 - 3j\n",
    "\n",
    "print(\"Sum:\", x + y)\n",
    "\n",
    "print(\"Product:\", x * y)"
   ]
  },
  {
   "cell_type": "markdown",
   "metadata": {},
   "source": [
    "##  Visualizing $\\mathbb{C}$\n",
    "\n",
    "When we visualize a real number $x \\in \\mathbb{R}$, we draw it on the real number line.\n",
    "\n",
    "Since every $z = a + bi \\in\\mathbb{C}$ consists of real and imaginary parts, one axis is not enough to represent $z$.  Instead, we use a coordinate plane where the $x$-axis represents the real part, $a$, and the $y$-axis represents the imaginary part $b$.\n",
    "\n"
   ]
  },
  {
   "cell_type": "code",
   "execution_count": 168,
   "metadata": {},
   "outputs": [],
   "source": [
    "from plotting import plot\n",
    "\n",
    "S = {2 + 2j, 3 + 2j , 1.75 + 1j, 2 + 1j, 2.25 + 1j, 2.5 + 1j, 2.75 + 1j, 3 + 1j, 3.25 + 1j}\n",
    "plot(S, 6) #plots the elements in S, on a plane [-6,6] X [-6, 6]"
   ]
  },
  {
   "cell_type": "markdown",
   "metadata": {},
   "source": [
    "### Visualizing Translations\n",
    "\n",
    "What happens when we add say $z_0 = 1 + 2i$ to every element is $S$? i.e. How does the plot of the points returned by \n",
    "\n",
    "$f(z) = z + z_0$\n",
    "\n",
    "look like relative to the original plot of $S$?"
   ]
  },
  {
   "cell_type": "code",
   "execution_count": 20,
   "metadata": {},
   "outputs": [],
   "source": [
    "F = {z+(1+2j) for z in S}#A comprehension is a generated set in Python\n",
    "plot(F, 6)"
   ]
  },
  {
   "cell_type": "markdown",
   "metadata": {},
   "source": [
    "#### Summary of $z + z_0$, where $z_0 = a_0 + b_0i$:\n",
    "\n",
    "\n",
    "If $z = a + bi$, then ...\n",
    "* $Re( z + z_0 ) = a + a_0$.  If ...\n",
    "    * $a_0 < 0$ then the point shifts to the **left**\n",
    "    * $a_0 > 0$ then the point shifts to the **right**\n",
    "* $Im( z + z_0) = b + b_0 $. If ...\n",
    "    * $b_0 < 0$ then the point shifts to **down**\n",
    "    * $b_0 > 0$ then the point shifts to **up**\n",
    "\n"
   ]
  },
  {
   "cell_type": "markdown",
   "metadata": {},
   "source": [
    "### Multiplying By A Scalar (i.e. real number)\n",
    "\n",
    "What happens when we multiply a complex number by a scalar: $g(z) = k z$?  Let's plot the effect of this function on the points of $S$ for several values of $k$.\n"
   ]
  },
  {
   "cell_type": "code",
   "execution_count": 17,
   "metadata": {},
   "outputs": [],
   "source": [
    "plot(S, 8)\n",
    "k_list = [2, 0.5, -0.5, -2] # list of scalars to multiply with.\n",
    "\n",
    "for k in k_list:\n",
    "    G= {k*z for z in S}\n",
    "    #FIXME: Insert the appropriate comprehesion here.\n",
    "    plot(G, 8)"
   ]
  },
  {
   "cell_type": "markdown",
   "metadata": {
    "collapsed": true
   },
   "source": [
    "### LAB ASSIGNMENT #7: \n",
    "\n",
    "Create a function `scaleRotate(z, alpha, tau)` which scales a given complex number `z = a + bj` by real number `alpha` and rotates it by `tau` raidans. "
   ]
  },
  {
   "cell_type": "code",
   "execution_count": 166,
   "metadata": {},
   "outputs": [],
   "source": [
    "def scaleRotate(z,alpha, tau):\n",
    "    real = z.real\n",
    "    img = z.imag\n",
    "    r = math.sqrt((real*real)+(img*img))\n",
    "    t = math.atan(img/real)\n",
    "    t += tau\n",
    "    x = r*(math.cos(t))\n",
    "    y = r*(math.sin(t))\n",
    "    z = complex(x,y)\n",
    "    return z #return a complex number"
   ]
  },
  {
   "cell_type": "code",
   "execution_count": 170,
   "metadata": {},
   "outputs": [],
   "source": [
    "import math\n",
    "\"--------TESTER----\"\n",
    "alpha = 3\n",
    "tau = math.pi/6\n",
    "R={scaleRotate(z,alpha,tau)for z in S}\n",
    "plot(R,2*alpha) #plots the points in S scaled by alpha and rotated by tau on a plane [-2 alpha, 2 alpha] X [-2 alpha, 2 alpha]\n"
   ]
  },
  {
   "cell_type": "code",
   "execution_count": null,
   "metadata": {},
   "outputs": [],
   "source": []
  }
 ],
 "metadata": {
  "anaconda-cloud": {},
  "kernelspec": {
   "display_name": "Python 3",
   "language": "python",
   "name": "python3"
  },
  "language_info": {
   "codemirror_mode": {
    "name": "ipython",
    "version": 3
   },
   "file_extension": ".py",
   "mimetype": "text/x-python",
   "name": "python",
   "nbconvert_exporter": "python",
   "pygments_lexer": "ipython3",
   "version": "3.7.3"
  }
 },
 "nbformat": 4,
 "nbformat_minor": 1
}
