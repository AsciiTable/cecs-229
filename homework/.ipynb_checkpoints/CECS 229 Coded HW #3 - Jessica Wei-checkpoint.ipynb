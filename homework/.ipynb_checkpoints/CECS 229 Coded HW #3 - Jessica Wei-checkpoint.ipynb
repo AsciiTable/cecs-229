{
 "cells": [
  {
   "cell_type": "markdown",
   "metadata": {},
   "source": [
    "## CECS 229 Coded HW #3\n",
    "\n",
    "#### Due Date: Tuesday, October 21st 2019 by 3 pm\n",
    "\n",
    "#### Submission Instructions:\n",
    "\n",
    "Copy your coded solution to the programming tasks below onto a .txt or .rtf file and submit it to the dropbox.\n",
    "\n",
    "### Programming Tasks\n",
    "1. Re-implement the class `Vec` below so that each instance method uses a comprehension to create the output, rather than a `for` loop. \n",
    "        `e.g. [2*s for s in range(10)]` creates `[0, 2, 4, 6, 8, 10, 12, 14, 16, 18]` \n",
    "2. Override the methods \n",
    "    * `__sub__(self, other)` to define the - operator for objects of the type `Vec` and `Vec`\n",
    "    * `__abs__(self)` to define the `abs()` method.  The call `abs(v)` for a vector $v = [v_1, v_2, ..., v_n]$ should return the result of $\\sqrt{v_1^2 + v_2^2 + \\cdots v_n^2}$\n",
    "    \n",
    "    e.g `abs(Vec([-3, 0.5, 1.7]))` returns `3.4842502780368694`"
   ]
  },
  {
   "cell_type": "markdown",
   "metadata": {},
   "source": [
    "###### Original Code:"
   ]
  },
  {
   "cell_type": "code",
   "execution_count": 1,
   "metadata": {},
   "outputs": [],
   "source": [
    "class Vec:\n",
    "    def __init__(self, contents = []):\n",
    "        self.elements = contents\n",
    "        return\n",
    "        \n",
    "    def __add__(self, other):\n",
    "        \"\"\"Overloads the + operation to support Vec + Vec\"\"\"\n",
    "        if len(self.elements) == len(other.elements):\n",
    "            s = []\n",
    "            #for i in range(len(self.elements)):\n",
    "                #s.append(self.elements[i] + other.elements[i])\n",
    "            [self.elements[i]+other.elements[i] for i in range(len(self.elements))]\n",
    "            return s\n",
    "        else: \n",
    "            print(\"ERROR: Vectors must be same length\")\n",
    "            return None\n",
    "    \n",
    "    def __mul__(self, other):\n",
    "        \"\"\"Overloads the * operation to support \n",
    "            - Vec * Vec (dot product)\n",
    "            - Vec * float (component-wise product)\n",
    "            - Vec * int (component-wise product)\n",
    "        \"\"\"\n",
    "        if type(other) == Vec: #define dot product\n",
    "            if len(self.elements) == len(other.elements):\n",
    "                d = 0\n",
    "                for i in range(len(self.elements)):\n",
    "                    d += self.elements[i] * other.elements[i]\n",
    "                return d\n",
    "            else:\n",
    "                print(\"ERROR: Vectors must be same length.\")\n",
    "                return None\n",
    "        elif type(other) == float or type(other) == int:\n",
    "            s = []\n",
    "            for i in range(len(self.elements)):\n",
    "                s.append(self.elements[i] * other)\n",
    "            return Vec(s)\n",
    "    \n",
    "    def __rmul__(self, other):\n",
    "        \"\"\"Overloads the * operation to support \n",
    "            - float * Vec\n",
    "            - int * Vec\n",
    "        \"\"\"\n",
    "        if type(other) == float or type(other) == int:\n",
    "            s = []\n",
    "            for i in range(len(self.elements)):\n",
    "                s.append(self.elements[i] * other)\n",
    "            return Vec(s)\n",
    "        else:\n",
    "            print(\"ERROR: Incompatible types.\")\n",
    "    \n",
    "    def __str__(self):\n",
    "        \"\"\"returns string representation of this Vec object\"\"\"\n",
    "        return str(self.elements)"
   ]
  },
  {
   "cell_type": "code",
   "execution_count": null,
   "metadata": {},
   "outputs": [],
   "source": []
  }
 ],
 "metadata": {
  "kernelspec": {
   "display_name": "Python 3",
   "language": "python",
   "name": "python3"
  },
  "language_info": {
   "codemirror_mode": {
    "name": "ipython",
    "version": 3
   },
   "file_extension": ".py",
   "mimetype": "text/x-python",
   "name": "python",
   "nbconvert_exporter": "python",
   "pygments_lexer": "ipython3",
   "version": "3.7.3"
  }
 },
 "nbformat": 4,
 "nbformat_minor": 2
}
