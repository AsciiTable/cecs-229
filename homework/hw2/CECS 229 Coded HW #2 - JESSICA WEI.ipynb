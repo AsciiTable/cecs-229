{
 "cells": [
  {
   "cell_type": "markdown",
   "metadata": {},
   "source": [
    "# CECS 229 Coded HW #2\n",
    "\n",
    "#### Due Date: Tuesday, October 8th 2018 by 2:00 pm\n",
    "\n",
    "#### Submission Instructions:\n",
    "\n",
    "Attach your coded solution to the programming tasks below. When you are finished, rename this file so that your actual name replaces \"YOUR NAME\" in the current notebook name,and submit it to the dropbox. For example, I would submit to the dropbox a file called \n",
    "\n",
    "`CECS 229 Coded HW #2 - KATHERINE VARELA.ipynb`\n",
    "\n",
    "### Programming Tasks\n",
    "\n"
   ]
  },
  {
   "cell_type": "markdown",
   "metadata": {},
   "source": [
    "#### Problem 1: \n",
    "Create a function `modinv(a,m)` that returns the inverse of `a` modulo `m`.  You may assume that the gcd of `a` and `m` is 1."
   ]
  },
  {
   "cell_type": "code",
   "execution_count": 7,
   "metadata": {},
   "outputs": [
    {
     "name": "stdout",
     "output_type": "stream",
     "text": [
      "502\n",
      "5\n"
     ]
    },
    {
     "data": {
      "text/plain": [
       "5"
      ]
     },
     "execution_count": 7,
     "metadata": {},
     "output_type": "execute_result"
    }
   ],
   "source": [
    "def modinv(a,m):\n",
    "    \"\"\"returns the inverse of a modulo m\n",
    "    INPUT: a - integer\n",
    "           m - positive integer\n",
    "    OUTPUT: a inverse as an integer\n",
    "    \"\"\"\n",
    "    modu = m\n",
    "    x = 0\n",
    "    y = 1\n",
    "    u = 1\n",
    "    v = 0\n",
    "    swapped = False\n",
    "    if a < m:\n",
    "        swapped = True\n",
    "        holder = a\n",
    "        a = m\n",
    "        m = holder\n",
    "    \n",
    "    while a != 0:\n",
    "        quotient = m//a\n",
    "        remainder = m%a\n",
    "        o = x - u * quotient\n",
    "        n = y - v * quotient\n",
    "        m = a\n",
    "        a = remainder\n",
    "        x = u\n",
    "        y = v\n",
    "        u = o\n",
    "        v = n\n",
    "\n",
    "    if swapped == True:\n",
    "        holder = x\n",
    "        x = y\n",
    "        y = holder\n",
    "    \n",
    "    while x <= 0:\n",
    "        x = x + modu\n",
    "    \n",
    "    print(\"%s\" % (x))\n",
    "    \n",
    "    return x\n",
    "modinv(7,3513)\n",
    "modinv(3,7)"
   ]
  },
  {
   "cell_type": "markdown",
   "metadata": {},
   "source": [
    "#### Problem 2: \n",
    "Create a function `affineEncrypt(text, a,b)` that returns the cipher text encrypted using key  (`a`, `b`).  You must verify that the gcd(a, 26) = 1 before making the encryption.  If this is not the case, the function must throw an exception/error message for an invalid key (see Python keyword `raise`).  You may use the utility functions at the end of this notebook."
   ]
  },
  {
   "cell_type": "code",
   "execution_count": 4,
   "metadata": {},
   "outputs": [],
   "source": [
    "def affineEncrypt(text, a, b):\n",
    "    \"\"\"encrypts the plaintext 'text', using an affine transformation key (a, b)\n",
    "    INPUT:  text - plaintext as a string of letters\n",
    "            a - integer satisfying gcd(a, 26) = 1.  Raises error if such is not the case\n",
    "            b - integer \n",
    "            \n",
    "    OUTPUT: The encrypted message as a string of characters \n",
    "    \"\"\"\n",
    "    # GCD CHECK\n",
    "    i=1\n",
    "    compTo = 0\n",
    "    gcdAns = 0\n",
    "    if a < b:\n",
    "        compTo = a\n",
    "    else:\n",
    "        compTo = b\n",
    "        \n",
    "    while(i < compTo):\n",
    "        if (a%i == 0) & (b%i == 0):\n",
    "            gcdAns = i\n",
    "        i += 1\n",
    "    if gcdAns != 1:\n",
    "        return \"GCD(a, 26) != 1; CANNOT ENCRYPT\"\n",
    "    \n",
    "    #Encryption\n",
    "    #f(p) = ap + b mod(26)\n",
    "    k = len(text)\n",
    "    i = 0\n",
    "    #while i < k:\n",
    "        #ev = text[i]\n",
    "        #i+=1\n",
    "    \n",
    "    print(text[0])\n",
    "    return \"hi\"\n",
    "    "
   ]
  },
  {
   "cell_type": "markdown",
   "metadata": {},
   "source": [
    "#### Problem 3: \n",
    "Create a function `affineDecrypt(ciphertext, a,b)` that returns the cipher text encrypted using key  (`a`, `b`).  "
   ]
  },
  {
   "cell_type": "code",
   "execution_count": null,
   "metadata": {
    "collapsed": true
   },
   "outputs": [],
   "source": [
    "def affineDecrypt(ciphertext, a, b):\n",
    "    \"\"\"decrypts the string 'ciphertext', which was encrypted using an affine transformation key (a, b)\n",
    "    INPUT:  ciphertext - a string of encrypted letters\n",
    "            a - integer satisfying gcd(a, 26) = 1.  \n",
    "            b - integer \n",
    "            \n",
    "    OUTPUT: The decrypted message as a string of characters\n",
    "    \"\"\"\n",
    "    # GCD CHECK\n",
    "    i=1\n",
    "    compTo = 0\n",
    "    gcdAns = 0\n",
    "    if a < b:\n",
    "        compTo = a\n",
    "    else:\n",
    "        compTo = b\n",
    "        \n",
    "    while(i < compTo):\n",
    "        if (a%i == 0) & (b%i == 0):\n",
    "            gcdAns = i\n",
    "        i += 1\n",
    "    if gcdAns != 1:\n",
    "        return \"GCD(a, 26) != 1; CANNOT DECRYPT\"\n",
    "    \n",
    "    # Decryption\n",
    "    #f^(-1)(p) = \\Bar(a)(p - b) mod(26)\n",
    "    \n",
    "    \n",
    "    \n",
    "    pass\n",
    "    "
   ]
  },
  {
   "cell_type": "markdown",
   "metadata": {},
   "source": [
    "#### Problem 4:\n",
    "\n",
    "Implement the function `encryptRSA(m, p, q, e)` which encrypts a string `m` using RSA key `(n = p * q, e)`.  You may use the utility functions at the end of this notebook to aid you in your implementation. "
   ]
  },
  {
   "cell_type": "code",
   "execution_count": 1,
   "metadata": {
    "collapsed": true
   },
   "outputs": [],
   "source": [
    "def encryptRSA(m, p, q, e):\n",
    "    \"\"\"encrypts the plaintext m, using RSA and the key (p * q, e)\n",
    "    INPUT:  m - plaintext as a string of letters\n",
    "            p, q - prime numbers used as part of the key n = p * q to encrypt the ciphertext\n",
    "            e - integer satisfying gcd((p-1)*(q-1), e) = 1\n",
    "            \n",
    "    OUTPUT: The encrypted message as a string of digits\n",
    "    \"\"\"\n",
    "    pass\n",
    "    "
   ]
  },
  {
   "cell_type": "code",
   "execution_count": null,
   "metadata": {
    "collapsed": true
   },
   "outputs": [],
   "source": [
    "\"\"\"--------------------- TESTER CELL ---------------------------\"\"\"\n",
    "encrypted1 = encryptRSA(\"STOP\", 43, 59, 13)\n",
    "encrypted2 = decryptRSA(\"HELP\", 43, 59, 13)\n",
    "encrypted3 = decryptRSA(\"STOPS\", 43, 59, 13)\n",
    "print(\"Encrypted Message:\", encrypted1)\n",
    "print(\"Expected: 2081 2182\")\n",
    "print(\"Encrypted Message:\", encrypted2)\n",
    "print(\"Expected: 0981 0461\")\n",
    "print(\"Encrypted Message:\", encrypted3)\n",
    "print(\"Expected: 2081 2182 1346\")"
   ]
  },
  {
   "cell_type": "markdown",
   "metadata": {},
   "source": [
    "#### Problem 5:\n",
    "\n",
    "Complete the implementation of the function `decryptRSA(c, p, q, m)` which depends on `modinv(a,m)` and the given functions `RSAdigits2letters(d)` and `blockSize(n)`.  When you are done, you can test your function against the given samples."
   ]
  },
  {
   "cell_type": "code",
   "execution_count": null,
   "metadata": {
    "collapsed": true
   },
   "outputs": [],
   "source": [
    "def decryptRSA(c, p, q, e):\n",
    "    \"\"\"decrypts the cipher c, which was encrypted using the key (p * q, e)\n",
    "    INPUT:  c - ciphertext as a string of digits\n",
    "            p, q - prime numbers used as part of the key n = p * q to encrypt the ciphertext\n",
    "            e - integer satisfying gcd((p-1)*(q-1), e) = 1\n",
    "            \n",
    "    OUTPUT: The decrypted message as a string of letters\n",
    "    \"\"\"\n",
    "    c_copy = c.replace(\" \", \"\")  #taking out all spacing\n",
    "    m = 26# <------------------------------------------------FIXME: Enter the appropriate modulo for calculating inverse of e\n",
    "    e_inv = modinv(e, m)\n",
    "    n = 4# <------------------------------------------------FIXME: Enter the appropriate modulo for calculating decryption of each block\n",
    "    \n",
    "    \n",
    "    digits = \"\"\n",
    "    k = blocksize(n) #size of each block is calculated by function blocksize()\n",
    "    start = 0\n",
    "    for i in range(0,len(c_copy), k):\n",
    "        block = c_copy[start: start + k]  #creating a block of digits\n",
    "        digit = str(FIXME GOES HERE) # <-----------------FIXME: Enter the appropriate calculation for the decryption of each block \n",
    "        if len(digit) % 2 != 0:  #padding the block before adding it to the string\n",
    "            digits += \"0\" + digit\n",
    "        else:\n",
    "            digits += digit\n",
    "        start += k  #updating starting index for next block\n",
    "    return RSAdigits2letters(digits)  #converting digits to letters"
   ]
  },
  {
   "cell_type": "code",
   "execution_count": null,
   "metadata": {
    "collapsed": true
   },
   "outputs": [],
   "source": [
    "\"\"\"--------------------- TESTER CELL ---------------------------\"\"\"\n",
    "decrypted1 = decryptRSA(\"2081 2182\", 43, 59, 13)\n",
    "decrypted2 = decryptRSA(\"0981 0461\", 43, 59, 13)\n",
    "decrypted3 = decryptRSA(\"2081 2182 1346\", 43, 59, 13)\n",
    "print(\"Decrypted Message:\", decrypted1)\n",
    "print(\"Expected: STOP\")\n",
    "print(\"Decrypted Message:\", decrypted2)\n",
    "print(\"Expected: HELP\")\n",
    "print(\"Decrypted Message:\", decrypted3)\n",
    "print(\"Expected: STOPSX\")"
   ]
  },
  {
   "cell_type": "markdown",
   "metadata": {},
   "source": [
    "##### Utility functions (NO EDITS NECESSARY)"
   ]
  },
  {
   "cell_type": "code",
   "execution_count": null,
   "metadata": {
    "collapsed": true
   },
   "outputs": [],
   "source": [
    "def RSAdigits2letters(digits):\n",
    "    \"\"\"converts a string of double digits without spaces in the range 00-25 to a string of letters A-Z\"\"\"\n",
    "    letter2digit = {\"A\" : \"00\", \"B\" : \"01\", \"C\" : \"02\", \"D\" : \"03\", \"E\" : \"04\", \n",
    "                  \"F\" : \"05\", \"G\" : \"06\", \"H\" : \"07\", \"I\" : \"08\", \"J\" : \"09\",\n",
    "                  \"K\" : \"10\", \"L\" : \"11\", \"M\" : \"12\", \"N\" : \"13\", \"O\" : \"14\",  \n",
    "                  \"P\" : \"15\", \"Q\" : \"16\", \"R\" : \"17\", \"S\" : \"18\", \"T\" : \"19\",\n",
    "                  \"U\" : \"20\", \"V\" : \"21\", \"W\" : \"22\", \"X\" : \"23\", \"Y\" : \"24\", \n",
    "                  \"Z\" : \"25\"}\n",
    "        \n",
    "    digit2letter = dict((v,k) for k,v in letter2digit.items())  #creating a dictionary with keys and values exchanged\n",
    "        \n",
    "    letters = \"\"\n",
    "    start = 0  #initializing starting index of first digit\n",
    "    for i in range(0, len(digits), 2):\n",
    "        digit = digits[start : start + 2]  # accessing the double digit\n",
    "        letters += digit2letter[digit]     # concatenating to the string of letters\n",
    "        start += 2                         # updating the starting index for next digit\n",
    "    \n",
    "    return letters"
   ]
  },
  {
   "cell_type": "code",
   "execution_count": null,
   "metadata": {
    "collapsed": true
   },
   "outputs": [],
   "source": [
    "def blocksize(n):\n",
    "    \"\"\"returns the size of a block in an RSA encrypted string\"\"\"\n",
    "    twofive = \"25\"\n",
    "    while int(twofive) < n:\n",
    "        twofive += \"25\"\n",
    "    return len(twofive) - 2"
   ]
  }
 ],
 "metadata": {
  "kernelspec": {
   "display_name": "Python 3",
   "language": "python",
   "name": "python3"
  },
  "language_info": {
   "codemirror_mode": {
    "name": "ipython",
    "version": 3
   },
   "file_extension": ".py",
   "mimetype": "text/x-python",
   "name": "python",
   "nbconvert_exporter": "python",
   "pygments_lexer": "ipython3",
   "version": "3.7.3"
  }
 },
 "nbformat": 4,
 "nbformat_minor": 2
}
