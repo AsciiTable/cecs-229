{
 "cells": [
  {
   "cell_type": "markdown",
   "metadata": {},
   "source": [
    "# CECS 229: Coded HW #1\n",
    "\n",
    "### Submission Instructions:\n",
    "\n",
    "Attach your coded solution to the programming tasks below. When you are finished, rename this file so that your actual name replaces \"YOUR NAME\" in the current notebook name,and submit it to the dropbox by **Thursday 9/19 @ 2 PM**. For example, I would submit to the dropbox a file called \n",
    "\n",
    "`CECS 229 Coded HW#1 - KATHERINE VARELA.ipynb`\n",
    "\n",
    "**You must demo your work to receive credit.**"
   ]
  },
  {
   "cell_type": "markdown",
   "metadata": {},
   "source": [
    "Submit the following Python functions in one Jupyter Notebook after demoing your work.\n",
    "\n",
    "\n",
    "#### Problem 1:\n",
    "\n",
    "Program a function `modExp(b, n, m)` that computes $$b^n \\mod m$$ using the algorithm discussed in lecture.  The function should satisfy the following:\n",
    "\n",
    "1. INPUT: \n",
    "    * `b` - positive integer representing the base\n",
    "    * `n` - positive integer representing the exponent\n",
    "    * `m` - positive integer representing the modulo\n",
    "\n",
    "    \n",
    "2. OUTPUT:\n",
    "    * the computation of $b^n \\mod m$\n",
    "\n",
    " \n",
    "EXAMPLE: \n",
    "\n",
    "`>> modExp( 3 , 644, 645 )`\n",
    "\n",
    "`36`\n",
    "\n"
   ]
  },
  {
   "cell_type": "code",
   "execution_count": 1,
   "metadata": {},
   "outputs": [
    {
     "name": "stdout",
     "output_type": "stream",
     "text": [
      "Answer:  36\n"
     ]
    }
   ],
   "source": [
    "def modExp(b, n, m):\n",
    "    #FIXME: IMPLEMENT THIS METHOD\n",
    "    i = 0\n",
    "    ans = b\n",
    "    while i < n - 1:\n",
    "        ans = ans * b\n",
    "        i = i + 1\n",
    "    ans = ans%m\n",
    "    print(\"Answer: \", ans)\n",
    "    \n",
    "modExp(3,644,645)"
   ]
  },
  {
   "cell_type": "markdown",
   "metadata": {},
   "source": [
    "#### Problem 2:\n",
    "\n",
    "Create a function `bezoutCoeffs(a, b)` that computes the Bezout coefficients `s` and `t` of `a` and `b`.\n",
    "\n",
    "1. INPUT: \n",
    "    * `a`,`b` - integers\n",
    "\n",
    "2. OUTPUT: `(s, t)` - tuple of coefficients\n",
    "\n",
    "EXAMPLE:  \n",
    " \n",
    "`>> bezoutCoeffs(414, 662)` \n",
    "\n",
    "`(8, -5)`\n",
    "\n"
   ]
  },
  {
   "cell_type": "code",
   "execution_count": 17,
   "metadata": {},
   "outputs": [
    {
     "name": "stdout",
     "output_type": "stream",
     "text": [
      "(8, -5)\n"
     ]
    }
   ],
   "source": [
    "def bezoutCoeffs(a, b):\n",
    "    x = 0\n",
    "    y = 1\n",
    "    u = 1\n",
    "    v = 0\n",
    "    swapped = False\n",
    "    if a < b:\n",
    "        swapped = True\n",
    "        holder = a\n",
    "        a = b\n",
    "        b = holder\n",
    "    \n",
    "    while a != 0:\n",
    "        quotient = b//a\n",
    "        remainder = b%a\n",
    "        m = x - u * quotient\n",
    "        n = y - v * quotient\n",
    "        b = a\n",
    "        a = remainder\n",
    "        x = u\n",
    "        y = v\n",
    "        u = m\n",
    "        v = n\n",
    "    gcd = b\n",
    "    if swapped == True:\n",
    "        holder = x\n",
    "        x = y\n",
    "        y = holder\n",
    "    print(\"(%s, %s)\" % (x, y))\n",
    "    \n",
    "bezoutCoeffs(414, 662)"
   ]
  },
  {
   "cell_type": "markdown",
   "metadata": {},
   "source": [
    "#### Problem 3:\n",
    "\n",
    "Create a function `gcd(a, b)` that computes the greatest common divisor of `a` and `b`\n",
    "\n",
    "1. INPUT: \n",
    "    * `a`,`b` - integers\n",
    "\n",
    "2. OUTPUT: `d` - the gcd\n",
    "\n",
    "EXAMPLE:  \n",
    " \n",
    "`>> gcd(414, 662)` \n",
    "\n",
    "`2`"
   ]
  },
  {
   "cell_type": "code",
   "execution_count": 2,
   "metadata": {},
   "outputs": [
    {
     "name": "stdout",
     "output_type": "stream",
     "text": [
      "GCD:  2\n"
     ]
    }
   ],
   "source": [
    "def gcd(a,b):\n",
    "    #FIXME: IMPLEMENT THIS METHOD\n",
    "    i=1\n",
    "    compTo = 0\n",
    "    gcdAns = 0\n",
    "    if a < b:\n",
    "        compTo = a\n",
    "    else:\n",
    "        compTo = b\n",
    "        \n",
    "    while(i < compTo):\n",
    "        if (a%i == 0) & (b%i == 0):\n",
    "            gcdAns = i\n",
    "        i += 1\n",
    "    \n",
    "    print(\"GCD: \", gcdAns)\n",
    "\n",
    "gcd(414, 662)"
   ]
  },
  {
   "cell_type": "code",
   "execution_count": null,
   "metadata": {},
   "outputs": [],
   "source": []
  }
 ],
 "metadata": {
  "kernelspec": {
   "display_name": "Python 3",
   "language": "python",
   "name": "python3"
  },
  "language_info": {
   "codemirror_mode": {
    "name": "ipython",
    "version": 3
   },
   "file_extension": ".py",
   "mimetype": "text/x-python",
   "name": "python",
   "nbconvert_exporter": "python",
   "pygments_lexer": "ipython3",
   "version": "3.7.3"
  }
 },
 "nbformat": 4,
 "nbformat_minor": 2
}
